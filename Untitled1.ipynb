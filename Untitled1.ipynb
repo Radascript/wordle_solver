{
 "cells": [
  {
   "cell_type": "code",
   "execution_count": null,
   "id": "ab6076e0-3159-45e2-b19c-6069ab8e0f70",
   "metadata": {},
   "outputs": [],
   "source": [
    "def filter_dict(word, outcome, words):\n",
    "    \n",
    "    '''\n",
    "    Filters possible remaining words based on the one you provided\n",
    "    Parameters\n",
    "    ----------\n",
    "    word : str\n",
    "        word you entered\n",
    "    \n",
    "    outcome : str\n",
    "        str of strict type like BBYYG\n",
    "        where \n",
    "        B is black (letter not in word)\n",
    "        Y is yellow (right letter wrong spot)\n",
    "        G is green (right letter right spot)\n",
    "    \n",
    "    words : dataframe\n",
    "        all possible words\n",
    "    \n",
    "    Returns\n",
    "    --------\n",
    "    a dataframe with all possible words given the info provided by word\n",
    "    \n",
    "    Examples\n",
    "    --------\n",
    "    >>> filter_dict('whaup', 'BYBGG')\n",
    "    '''\n",
    "\n",
    "\n",
    "takes in word with greens/yellows\n",
    "eli"
   ]
  }
 ],
 "metadata": {
  "kernelspec": {
   "display_name": "Python 3 (ipykernel)",
   "language": "python",
   "name": "python3"
  },
  "language_info": {
   "codemirror_mode": {
    "name": "ipython",
    "version": 3
   },
   "file_extension": ".py",
   "mimetype": "text/x-python",
   "name": "python",
   "nbconvert_exporter": "python",
   "pygments_lexer": "ipython3",
   "version": "3.9.9"
  }
 },
 "nbformat": 4,
 "nbformat_minor": 5
}
