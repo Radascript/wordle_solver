{
 "cells": [
  {
   "cell_type": "code",
   "execution_count": 1,
   "id": "cef5758f-5806-4808-8df1-e01a0e471873",
   "metadata": {},
   "outputs": [],
   "source": [
    "import pandas as pd\n",
    "import numpy as np\n",
    "import os\n",
    "from pathlib import Path\n",
    "import collections\n",
    "from collections import defaultdict"
   ]
  },
  {
   "cell_type": "code",
   "execution_count": 2,
   "id": "b5df6dbc-bdf4-4775-8fb2-0609506b910b",
   "metadata": {
    "tags": []
   },
   "outputs": [],
   "source": [
    "# Make my dictionary\n",
    "num_letters = 5\n",
    "words = pd.read_csv(\"dict.csv\", header=None)\n",
    "words = words.rename(columns={0:'word'})\n",
    "\n",
    "for i in range(1,21):\n",
    "    new_name = \"letter\"+str(i)\n",
    "    words[new_name] = words['word'].str[i-1] # -1 because they are indexed from 0, so letter1 is words['word'].str[0]\n",
    "words = words[words['letter1'].str.lower() == words['letter1']]\n",
    "\n",
    "masks = dict()\n",
    "words_subsets = dict()\n",
    "\n",
    "for i in range(1,21):\n",
    "    words_subset_name = \"words\"+str(i)\n",
    "    words_subsets[words_subset_name] = words.loc[(words['word'].str.len() == i)]\n",
    "\n",
    "words = words_subsets['words'+str(num_letters)][['word']]"
   ]
  },
  {
   "cell_type": "markdown",
   "id": "fe808695-9dd9-48c9-b159-5c972a2afd09",
   "metadata": {},
   "source": [
    "# Checking if a given word is a possibility given an outcome\n",
    "\n",
    "Let's start with a basic function to check if a given word is possible after we guessed something and got an outcome string."
   ]
  },
  {
   "cell_type": "code",
   "execution_count": 3,
   "id": "ab6076e0-3159-45e2-b19c-6069ab8e0f70",
   "metadata": {
    "tags": []
   },
   "outputs": [],
   "source": [
    "def is_word_possible(guess, outcome, target):\n",
    "    '''\n",
    "    Checks if target word is possible given the outcome of the guess\n",
    "    Parameters\n",
    "    ----------\n",
    "    guess : str\n",
    "        word you entered\n",
    "    \n",
    "    outcome : str\n",
    "        str of strict type like BBYYG\n",
    "        where \n",
    "        B is black (letter not in word)\n",
    "        Y is yellow (right letter wrong spot)\n",
    "        G is green (right letter right spot)\n",
    "    \n",
    "    target : str\n",
    "        word to check if it is possible\n",
    "    \n",
    "    Returns\n",
    "    --------\n",
    "    TRUE is possible\n",
    "    FALSE if impossible\n",
    "    \n",
    "    Examples\n",
    "    --------\n",
    "    >>> is_word_possible('whaup', 'GGGBB', 'whack')\n",
    "    '''\n",
    "\n",
    "    res = True\n",
    "    outcome = outcome.lower()\n",
    "    \n",
    "    yellows = dict()\n",
    "    blacks = set()\n",
    "    \n",
    "    # Build my lookup objects\n",
    "    for i in range(len(guess)):\n",
    "        if outcome[i] == 'b':\n",
    "            blacks.add(guess[i])\n",
    "        elif outcome[i] == 'y':\n",
    "            yellows[guess[i]]=i\n",
    "        \n",
    "    # print('yellows:')\n",
    "    # print(yellows)\n",
    "    for i in range(len(target)):\n",
    "        # if we whiff on green, exit loop and return False\n",
    "        if outcome[i] == 'g':\n",
    "            if guess[i] != target[i]:\n",
    "                #print(\"failed greens\")\n",
    "                res = False\n",
    "                break\n",
    "\n",
    "        \n",
    "        # if we have a black letter in target, exit loop and return False\n",
    "        elif target[i] in blacks:\n",
    "           # print(f\"failed blacks at letter#{i+1} for letter {guess_arr[i]}\")\n",
    "            res = False\n",
    "            break\n",
    "        \n",
    "        elif target[i] in yellows:\n",
    "            if i == yellows[target[i]]: #if it's same spot it woulda been green\n",
    "                res = False\n",
    "                break\n",
    "            yellows.pop(target[i], None)\n",
    "            \n",
    "    if(len(yellows)) > 0:\n",
    "        res = False\n",
    "    return res"
   ]
  },
  {
   "cell_type": "markdown",
   "id": "693688cf-7c36-41d0-879f-212f4b6b5914",
   "metadata": {},
   "source": [
    "Let's test it on a couple of guesses:"
   ]
  },
  {
   "cell_type": "code",
   "execution_count": 4,
   "id": "18fc601b-b1ae-457c-9ce5-66d2fc9d8b3f",
   "metadata": {},
   "outputs": [
    {
     "data": {
      "text/plain": [
       "True"
      ]
     },
     "execution_count": 4,
     "metadata": {},
     "output_type": "execute_result"
    }
   ],
   "source": [
    "is_word_possible('puree', 'BBGYG', 'serle') #should be True"
   ]
  },
  {
   "cell_type": "code",
   "execution_count": 5,
   "id": "1a26b286-ef3d-4b57-9ca1-edd8292dfd95",
   "metadata": {},
   "outputs": [
    {
     "data": {
      "text/plain": [
       "False"
      ]
     },
     "execution_count": 5,
     "metadata": {},
     "output_type": "execute_result"
    }
   ],
   "source": [
    "is_word_possible('puree', 'BBGYG', 'siren') #should be False"
   ]
  },
  {
   "cell_type": "markdown",
   "id": "16043d8e-79bf-4f44-9288-e71b6536e0c0",
   "metadata": {},
   "source": [
    "# Getting outcome string from guess and target\n",
    "\n",
    "Now, let's look at the reverse functionality, where we get an outcome string from a given guess and target"
   ]
  },
  {
   "cell_type": "code",
   "execution_count": 6,
   "id": "30e20a6f-c128-4a7f-a904-ead6135036d7",
   "metadata": {},
   "outputs": [],
   "source": [
    "def get_outcome_str(guess, target):\n",
    "    '''\n",
    "    Return outcome str given guess and target\n",
    "    \n",
    "    Parameters\n",
    "    ----------\n",
    "    guess : str\n",
    "        word you entered\n",
    "    \n",
    "    target : str\n",
    "        correct word\n",
    "\n",
    "    Returns\n",
    "    --------\n",
    "    str of strict type like BBYYG\n",
    "        where \n",
    "        B is black (letter not in word)\n",
    "        Y is yellow (right letter wrong spot)\n",
    "        G is green (right letter right spot)\n",
    "    \n",
    "    Examples\n",
    "    --------\n",
    "    >>> get_outcome_str('whaup', 'whack')\n",
    "    '''\n",
    "\n",
    "    missing = collections.Counter(t for g, t in zip(guess, target) if g != t)\n",
    "    \n",
    "    res = []\n",
    "    \n",
    "    for target_c, guess_c in zip(target, guess):\n",
    "        \n",
    "        if target_c == guess_c:\n",
    "            res.append('G')\n",
    "            \n",
    "        elif guess_c in target and missing[guess_c] > 0:\n",
    "            res.append('Y')\n",
    "            missing[guess_c] -= 1\n",
    "            \n",
    "        else:\n",
    "            res.append('B')\n",
    "\n",
    "    #return score\n",
    "    res = ''.join(res)\n",
    "    return res"
   ]
  },
  {
   "cell_type": "markdown",
   "id": "a9aa964c-ac69-465b-9e25-a78e71409c9b",
   "metadata": {},
   "source": [
    "Quick little test:"
   ]
  },
  {
   "cell_type": "code",
   "execution_count": 7,
   "id": "1b242d6d-5495-4b15-bc43-9b74f85aaeff",
   "metadata": {},
   "outputs": [
    {
     "data": {
      "text/plain": [
       "'BBYGG'"
      ]
     },
     "execution_count": 7,
     "metadata": {},
     "output_type": "execute_result"
    }
   ],
   "source": [
    "get_outcome_str('puree', 'eriee')"
   ]
  },
  {
   "cell_type": "code",
   "execution_count": 8,
   "id": "dd221126-1a31-4f3f-8250-0d274b60b5b0",
   "metadata": {},
   "outputs": [
    {
     "data": {
      "text/plain": [
       "'GGGBB'"
      ]
     },
     "execution_count": 8,
     "metadata": {},
     "output_type": "execute_result"
    }
   ],
   "source": [
    "get_outcome_str('whata', 'whack')"
   ]
  },
  {
   "cell_type": "code",
   "execution_count": 9,
   "id": "b47db7de-6e11-415e-8511-207e47289c67",
   "metadata": {},
   "outputs": [
    {
     "data": {
      "text/plain": [
       "4         aalii\n",
       "20        abaca\n",
       "27        aback\n",
       "35        abaff\n",
       "36        abaft\n",
       "          ...  \n",
       "235714    zudda\n",
       "235749    zygal\n",
       "235796    zygon\n",
       "235840    zymic\n",
       "235841    zymin\n",
       "Name: word, Length: 8497, dtype: object"
      ]
     },
     "execution_count": 9,
     "metadata": {},
     "output_type": "execute_result"
    }
   ],
   "source": [
    "words['word']"
   ]
  },
  {
   "cell_type": "code",
   "execution_count": 10,
   "id": "f8bfe6a9-82de-4a46-85df-4e24f5a76abb",
   "metadata": {
    "tags": []
   },
   "outputs": [],
   "source": [
    "def filter_dict(guess, outcome, words):\n",
    "    \n",
    "    '''\n",
    "    Filters possible remaining words based on the one you provided\n",
    "    Parameters\n",
    "    ----------\n",
    "    guess : str\n",
    "        word you entered\n",
    "    \n",
    "    outcome : str\n",
    "        str of strict type like BBYYG\n",
    "        where \n",
    "        B is black (letter not in word)\n",
    "        Y is yellow (right letter wrong spot)\n",
    "        G is green (right letter right spot)\n",
    "    \n",
    "    words : dataframe\n",
    "        all possible words\n",
    "    \n",
    "    Returns\n",
    "    --------\n",
    "    a dataframe with all possible words given the info provided by word\n",
    "    \n",
    "    Examples\n",
    "    --------\n",
    "    >>> filter_dict('whaup', 'BYBGG', dict)\n",
    "    '''\n",
    "\n",
    "    res_set = set(words['word'])\n",
    "    for target in words['word']:\n",
    "        if(not is_word_possible(guess, outcome, target)):\n",
    "            res_set.remove(target)\n",
    "    \n",
    "    res = pd.DataFrame({'word': data} for data in res_set)    \n",
    "    return(res)"
   ]
  },
  {
   "cell_type": "code",
   "execution_count": 12,
   "id": "9d2147cd-cc44-4001-96e5-04ccfd717db2",
   "metadata": {},
   "outputs": [
    {
     "data": {
      "text/html": [
       "<div>\n",
       "<style scoped>\n",
       "    .dataframe tbody tr th:only-of-type {\n",
       "        vertical-align: middle;\n",
       "    }\n",
       "\n",
       "    .dataframe tbody tr th {\n",
       "        vertical-align: top;\n",
       "    }\n",
       "\n",
       "    .dataframe thead th {\n",
       "        text-align: right;\n",
       "    }\n",
       "</style>\n",
       "<table border=\"1\" class=\"dataframe\">\n",
       "  <thead>\n",
       "    <tr style=\"text-align: right;\">\n",
       "      <th></th>\n",
       "      <th>word</th>\n",
       "    </tr>\n",
       "  </thead>\n",
       "  <tbody>\n",
       "    <tr>\n",
       "      <th>0</th>\n",
       "      <td>wharf</td>\n",
       "    </tr>\n",
       "    <tr>\n",
       "      <th>1</th>\n",
       "      <td>whand</td>\n",
       "    </tr>\n",
       "    <tr>\n",
       "      <th>2</th>\n",
       "      <td>whamp</td>\n",
       "    </tr>\n",
       "    <tr>\n",
       "      <th>3</th>\n",
       "      <td>whack</td>\n",
       "    </tr>\n",
       "    <tr>\n",
       "      <th>4</th>\n",
       "      <td>whaup</td>\n",
       "    </tr>\n",
       "    <tr>\n",
       "      <th>5</th>\n",
       "      <td>whank</td>\n",
       "    </tr>\n",
       "    <tr>\n",
       "      <th>6</th>\n",
       "      <td>whata</td>\n",
       "    </tr>\n",
       "    <tr>\n",
       "      <th>7</th>\n",
       "      <td>whauk</td>\n",
       "    </tr>\n",
       "    <tr>\n",
       "      <th>8</th>\n",
       "      <td>whats</td>\n",
       "    </tr>\n",
       "    <tr>\n",
       "      <th>9</th>\n",
       "      <td>whart</td>\n",
       "    </tr>\n",
       "    <tr>\n",
       "      <th>10</th>\n",
       "      <td>whang</td>\n",
       "    </tr>\n",
       "    <tr>\n",
       "      <th>11</th>\n",
       "      <td>wharp</td>\n",
       "    </tr>\n",
       "    <tr>\n",
       "      <th>12</th>\n",
       "      <td>whaur</td>\n",
       "    </tr>\n",
       "  </tbody>\n",
       "</table>\n",
       "</div>"
      ],
      "text/plain": [
       "     word\n",
       "0   wharf\n",
       "1   whand\n",
       "2   whamp\n",
       "3   whack\n",
       "4   whaup\n",
       "5   whank\n",
       "6   whata\n",
       "7   whauk\n",
       "8   whats\n",
       "9   whart\n",
       "10  whang\n",
       "11  wharp\n",
       "12  whaur"
      ]
     },
     "execution_count": 12,
     "metadata": {},
     "output_type": "execute_result"
    }
   ],
   "source": [
    "filter_dict('whale', 'GGGBB', words)"
   ]
  },
  {
   "cell_type": "markdown",
   "id": "75d770cf-e428-444a-8b04-dad27bc209ac",
   "metadata": {},
   "source": [
    "# Finding optimal guess from the set of possible guesses and possible targets\n",
    "\n",
    "So this function is second top-level function in the solver.\n",
    "\n",
    "You choose your **targets**. Could be, for instance, filtered by the outcome and word from before, via filter_dict.\n",
    "\n",
    "You then choose your **guesses**. Usually, you will either want it to be:\n",
    "- All remaining possible words. This will give you a chance to win next turn\n",
    "- All legal words. This may result in better outcomes if, for instance, it's optimal to try all new letters."
   ]
  },
  {
   "cell_type": "code",
   "execution_count": 13,
   "id": "a4c7fe71-63f4-4830-9892-bf7cd8c47ce0",
   "metadata": {
    "tags": []
   },
   "outputs": [],
   "source": [
    "def optimal_guess(guesses, targets):\n",
    "    '''\n",
    "    Spits out the optimal word to try (both among possible targets, and among all words)\n",
    "    \n",
    "    Parameters\n",
    "    ----------\n",
    "    guesses : dataframe\n",
    "        dataframe of all possible remaining words\n",
    "    \n",
    "    targets : dataframe\n",
    "        dataframe of words to try\n",
    "    \n",
    "    words : dataframe\n",
    "        dictionary of remaining possible words\n",
    "    \n",
    "    Returns\n",
    "    --------\n",
    "    List of two values: best word and average remaining words. EG\n",
    "    ('whata', 10.4)\n",
    "    \n",
    "    Examples\n",
    "    --------\n",
    "    >>> optimal_guess(possible_words, possible_words)\n",
    "    '''\n",
    "    \n",
    "    averages = defaultdict(float)\n",
    "    \n",
    "    # loop all guesses\n",
    "    #guesses = pd.DataFrame(data={'word': ['abaca', 'knelt', 'spare', 'whank']})\n",
    "    #print(guesses['word'].values)\n",
    "\n",
    "    for guess in guesses['word'].values:\n",
    "        \n",
    "        ave_guess = 0.0\n",
    "        rem_words_count = 0\n",
    "        rem_words_sum = 0\n",
    "        \n",
    "        # loop all possible possible target words\n",
    "        for target in targets['word'].values:\n",
    "            if target != guess:\n",
    "                # given this guess + target, calc outcome\n",
    "\n",
    "                outcome = get_outcome_str(guess, target)\n",
    "                # how many words are still possible with this outcome?\n",
    "                \n",
    "                rem_poss_guesses = len(filter_dict(guess, outcome, targets))\n",
    "                # print(f\"target: {target}, outcome: {outcome}, poss guesses: {rem_poss_guesses}\")\n",
    "                rem_words_sum = rem_words_sum + rem_poss_guesses\n",
    "                rem_words_count = rem_words_count + 1\n",
    "        \n",
    "        # get the average\n",
    "        ave_guess = rem_words_sum / rem_words_count if rem_words_sum != 0 else 0\n",
    "        averages[guess] = round(ave_guess,2)\n",
    "        \n",
    "    res = pd.Series(averages, name='ave')\n",
    "    res.index.name = 'guess'\n",
    "    res = res.reset_index()\n",
    "    res = pd.DataFrame(res).sort_values('ave')\n",
    "    \n",
    "    return res"
   ]
  },
  {
   "cell_type": "markdown",
   "id": "657b1a9d-ea79-438d-9879-3ee4e16a7f2d",
   "metadata": {},
   "source": [
    "# Wordle Turn 2 Solver\n",
    "\n",
    "I'm calling it Turn 2 solver because you can easily give it your guess, outcome and dictionary and it will find optimal Turn 2. However, you can simply call filter_dict function for the latter turns and use new guess and outcome. Eventually, I may improve this function by allowing it to take in a dictionary of guesses and outcomes and pre-filter like so."
   ]
  },
  {
   "cell_type": "code",
   "execution_count": 15,
   "id": "98b51f71-3d00-4c46-989d-4f29b02a92b3",
   "metadata": {
    "tags": []
   },
   "outputs": [],
   "source": [
    "def wordle_solver(guess, outcome, words):\n",
    "    '''\n",
    "    Returns word with least remaining possibilities on average, picked from remaining words (if you want a chance to win next turn),\n",
    "    and within all dictionary\n",
    "    Why ever check for all and not just the possible answers? \n",
    "    Because maybe you are optimizing overall, and don't care about winning next turn\n",
    "    \n",
    "    Parameters\n",
    "    ----------\n",
    "    guess : str\n",
    "        word you entered\n",
    "    \n",
    "    outcome : str\n",
    "        str of strict type like BBYYG\n",
    "        where \n",
    "        B is black (letter not in word)\n",
    "        Y is yellow (right letter wrong spot)\n",
    "        G is green (right letter right spot)\n",
    "    \n",
    "    words : dataframe\n",
    "        dictionary of remaining possible words\n",
    "    \n",
    "    Returns\n",
    "    --------\n",
    "    String with embedded values to help you decide your next step\n",
    "    eg\n",
    "    \"There are 78 possible words remaining\n",
    "    Of them, the best guess for narrowing words down is TUBSY for average remaining number of 15\n",
    "    Of all possible words, the best guess for narrowing words down is COOKY for average remaining number of 3.\"\n",
    "    \n",
    "    Examples\n",
    "    --------\n",
    "    >>> wordle_solver('whaup', 'GGGBB', words)\n",
    "    '''\n",
    "    \n",
    "    possible_words = filter_dict(guess, outcome, words)\n",
    "    \n",
    "    ave_yolo_opt = optimal_guess(possible_words, possible_words)   \n",
    "    ave_opt = optimal_guess(words, possible_words)\n",
    "       \n",
    "    return ave_yolo_opt, ave_opt"
   ]
  },
  {
   "cell_type": "markdown",
   "id": "f90a8c76-cb61-4cef-94cd-1aa4187dbc85",
   "metadata": {},
   "source": [
    "# Filtered after Turn 1\n",
    "Create filtered list of possible targets that remain possible after guessing SIREN and outcome of BBGYB"
   ]
  },
  {
   "cell_type": "code",
   "execution_count": 16,
   "id": "79522e6a-b07f-4447-aae2-206e959862de",
   "metadata": {
    "tags": []
   },
   "outputs": [
    {
     "data": {
      "text/html": [
       "<div>\n",
       "<style scoped>\n",
       "    .dataframe tbody tr th:only-of-type {\n",
       "        vertical-align: middle;\n",
       "    }\n",
       "\n",
       "    .dataframe tbody tr th {\n",
       "        vertical-align: top;\n",
       "    }\n",
       "\n",
       "    .dataframe thead th {\n",
       "        text-align: right;\n",
       "    }\n",
       "</style>\n",
       "<table border=\"1\" class=\"dataframe\">\n",
       "  <thead>\n",
       "    <tr style=\"text-align: right;\">\n",
       "      <th></th>\n",
       "      <th>word</th>\n",
       "    </tr>\n",
       "  </thead>\n",
       "  <tbody>\n",
       "    <tr>\n",
       "      <th>0</th>\n",
       "      <td>egret</td>\n",
       "    </tr>\n",
       "    <tr>\n",
       "      <th>1</th>\n",
       "      <td>corke</td>\n",
       "    </tr>\n",
       "    <tr>\n",
       "      <th>2</th>\n",
       "      <td>cerer</td>\n",
       "    </tr>\n",
       "    <tr>\n",
       "      <th>3</th>\n",
       "      <td>aurae</td>\n",
       "    </tr>\n",
       "    <tr>\n",
       "      <th>4</th>\n",
       "      <td>beret</td>\n",
       "    </tr>\n",
       "    <tr>\n",
       "      <th>...</th>\n",
       "      <td>...</td>\n",
       "    </tr>\n",
       "    <tr>\n",
       "      <th>112</th>\n",
       "      <td>verre</td>\n",
       "    </tr>\n",
       "    <tr>\n",
       "      <th>113</th>\n",
       "      <td>ceral</td>\n",
       "    </tr>\n",
       "    <tr>\n",
       "      <th>114</th>\n",
       "      <td>kerat</td>\n",
       "    </tr>\n",
       "    <tr>\n",
       "      <th>115</th>\n",
       "      <td>rerow</td>\n",
       "    </tr>\n",
       "    <tr>\n",
       "      <th>116</th>\n",
       "      <td>error</td>\n",
       "    </tr>\n",
       "  </tbody>\n",
       "</table>\n",
       "<p>117 rows × 1 columns</p>\n",
       "</div>"
      ],
      "text/plain": [
       "      word\n",
       "0    egret\n",
       "1    corke\n",
       "2    cerer\n",
       "3    aurae\n",
       "4    beret\n",
       "..     ...\n",
       "112  verre\n",
       "113  ceral\n",
       "114  kerat\n",
       "115  rerow\n",
       "116  error\n",
       "\n",
       "[117 rows x 1 columns]"
      ]
     },
     "execution_count": 16,
     "metadata": {},
     "output_type": "execute_result"
    }
   ],
   "source": [
    "afterT1 = filter_dict('siren', 'BBGYB', words)\n",
    "afterT1"
   ]
  },
  {
   "cell_type": "markdown",
   "id": "2f924147-e840-42dc-a3a4-b20b64e2cb2d",
   "metadata": {},
   "source": [
    "# Optional: Filter repeated letters out\n",
    "\n",
    "For early turns, you may want to filter out the repeated letters "
   ]
  },
  {
   "cell_type": "code",
   "execution_count": 17,
   "id": "4ab05c52-a137-41e5-b6a7-c2e6fbe11720",
   "metadata": {},
   "outputs": [],
   "source": [
    "def filter_repeats(x):\n",
    "    if len(set(x)) == len(x):\n",
    "        return True\n",
    "    else:\n",
    "        return False"
   ]
  },
  {
   "cell_type": "code",
   "execution_count": 18,
   "id": "b11aed13-e259-4eea-8483-666b29a79702",
   "metadata": {},
   "outputs": [
    {
     "data": {
      "text/html": [
       "<div>\n",
       "<style scoped>\n",
       "    .dataframe tbody tr th:only-of-type {\n",
       "        vertical-align: middle;\n",
       "    }\n",
       "\n",
       "    .dataframe tbody tr th {\n",
       "        vertical-align: top;\n",
       "    }\n",
       "\n",
       "    .dataframe thead th {\n",
       "        text-align: right;\n",
       "    }\n",
       "</style>\n",
       "<table border=\"1\" class=\"dataframe\">\n",
       "  <thead>\n",
       "    <tr style=\"text-align: right;\">\n",
       "      <th></th>\n",
       "      <th>word</th>\n",
       "    </tr>\n",
       "  </thead>\n",
       "  <tbody>\n",
       "    <tr>\n",
       "      <th>1</th>\n",
       "      <td>corke</td>\n",
       "    </tr>\n",
       "    <tr>\n",
       "      <th>6</th>\n",
       "      <td>hertz</td>\n",
       "    </tr>\n",
       "    <tr>\n",
       "      <th>7</th>\n",
       "      <td>large</td>\n",
       "    </tr>\n",
       "    <tr>\n",
       "      <th>9</th>\n",
       "      <td>gerah</td>\n",
       "    </tr>\n",
       "    <tr>\n",
       "      <th>10</th>\n",
       "      <td>herma</td>\n",
       "    </tr>\n",
       "    <tr>\n",
       "      <th>...</th>\n",
       "      <td>...</td>\n",
       "    </tr>\n",
       "    <tr>\n",
       "      <th>106</th>\n",
       "      <td>derby</td>\n",
       "    </tr>\n",
       "    <tr>\n",
       "      <th>108</th>\n",
       "      <td>beray</td>\n",
       "    </tr>\n",
       "    <tr>\n",
       "      <th>110</th>\n",
       "      <td>deray</td>\n",
       "    </tr>\n",
       "    <tr>\n",
       "      <th>113</th>\n",
       "      <td>ceral</td>\n",
       "    </tr>\n",
       "    <tr>\n",
       "      <th>114</th>\n",
       "      <td>kerat</td>\n",
       "    </tr>\n",
       "  </tbody>\n",
       "</table>\n",
       "<p>76 rows × 1 columns</p>\n",
       "</div>"
      ],
      "text/plain": [
       "      word\n",
       "1    corke\n",
       "6    hertz\n",
       "7    large\n",
       "9    gerah\n",
       "10   herma\n",
       "..     ...\n",
       "106  derby\n",
       "108  beray\n",
       "110  deray\n",
       "113  ceral\n",
       "114  kerat\n",
       "\n",
       "[76 rows x 1 columns]"
      ]
     },
     "execution_count": 18,
     "metadata": {},
     "output_type": "execute_result"
    }
   ],
   "source": [
    "mask = afterT1.word.apply(filter_repeats)\n",
    "afterT1 = afterT1[mask]\n",
    "afterT1"
   ]
  },
  {
   "cell_type": "markdown",
   "id": "78d2e87f-9bce-495e-9ca6-57ddcaf3fc43",
   "metadata": {},
   "source": [
    "# Try it out for Optimal Guess after Turn 1\n",
    "\n",
    "Here we look for words with lowest average number of words given all possible targets. So, this is \"prefiltered\" set.\n",
    "\n",
    "When we run the actual solver, we create the filtered set for the guesses based on the outcome of the guess with \"filter_dict\""
   ]
  },
  {
   "cell_type": "code",
   "execution_count": 19,
   "id": "e2b7d28f-f6a6-4cbe-b488-5cbd5011f09c",
   "metadata": {},
   "outputs": [],
   "source": [
    "t2solve = optimal_guess(afterT1, afterT1)"
   ]
  },
  {
   "cell_type": "code",
   "execution_count": 20,
   "id": "c27a6e20-a09e-4580-938f-f8cfd2be73e5",
   "metadata": {},
   "outputs": [
    {
     "data": {
      "text/html": [
       "<div>\n",
       "<style scoped>\n",
       "    .dataframe tbody tr th:only-of-type {\n",
       "        vertical-align: middle;\n",
       "    }\n",
       "\n",
       "    .dataframe tbody tr th {\n",
       "        vertical-align: top;\n",
       "    }\n",
       "\n",
       "    .dataframe thead th {\n",
       "        text-align: right;\n",
       "    }\n",
       "</style>\n",
       "<table border=\"1\" class=\"dataframe\">\n",
       "  <thead>\n",
       "    <tr style=\"text-align: right;\">\n",
       "      <th></th>\n",
       "      <th>guess</th>\n",
       "      <th>ave</th>\n",
       "    </tr>\n",
       "  </thead>\n",
       "  <tbody>\n",
       "    <tr>\n",
       "      <th>22</th>\n",
       "      <td>targe</td>\n",
       "      <td>6.65</td>\n",
       "    </tr>\n",
       "    <tr>\n",
       "      <th>26</th>\n",
       "      <td>carte</td>\n",
       "      <td>7.11</td>\n",
       "    </tr>\n",
       "    <tr>\n",
       "      <th>59</th>\n",
       "      <td>yerga</td>\n",
       "      <td>7.40</td>\n",
       "    </tr>\n",
       "    <tr>\n",
       "      <th>3</th>\n",
       "      <td>gerah</td>\n",
       "      <td>7.77</td>\n",
       "    </tr>\n",
       "    <tr>\n",
       "      <th>44</th>\n",
       "      <td>garce</td>\n",
       "      <td>7.96</td>\n",
       "    </tr>\n",
       "    <tr>\n",
       "      <th>...</th>\n",
       "      <td>...</td>\n",
       "      <td>...</td>\n",
       "    </tr>\n",
       "    <tr>\n",
       "      <th>61</th>\n",
       "      <td>perdu</td>\n",
       "      <td>19.59</td>\n",
       "    </tr>\n",
       "    <tr>\n",
       "      <th>64</th>\n",
       "      <td>curve</td>\n",
       "      <td>19.80</td>\n",
       "    </tr>\n",
       "    <tr>\n",
       "      <th>20</th>\n",
       "      <td>jerky</td>\n",
       "      <td>20.23</td>\n",
       "    </tr>\n",
       "    <tr>\n",
       "      <th>8</th>\n",
       "      <td>burke</td>\n",
       "      <td>20.33</td>\n",
       "    </tr>\n",
       "    <tr>\n",
       "      <th>17</th>\n",
       "      <td>furze</td>\n",
       "      <td>24.76</td>\n",
       "    </tr>\n",
       "  </tbody>\n",
       "</table>\n",
       "<p>76 rows × 2 columns</p>\n",
       "</div>"
      ],
      "text/plain": [
       "    guess    ave\n",
       "22  targe   6.65\n",
       "26  carte   7.11\n",
       "59  yerga   7.40\n",
       "3   gerah   7.77\n",
       "44  garce   7.96\n",
       "..    ...    ...\n",
       "61  perdu  19.59\n",
       "64  curve  19.80\n",
       "20  jerky  20.23\n",
       "8   burke  20.33\n",
       "17  furze  24.76\n",
       "\n",
       "[76 rows x 2 columns]"
      ]
     },
     "execution_count": 20,
     "metadata": {},
     "output_type": "execute_result"
    }
   ],
   "source": [
    "t2solve"
   ]
  },
  {
   "cell_type": "markdown",
   "id": "80c33413-d7bd-4258-8abc-8795e7b1720a",
   "metadata": {},
   "source": [
    "# Run the solver.\n",
    "\n",
    "**WARNING**: On my mac, it takes like an hour to run."
   ]
  },
  {
   "cell_type": "code",
   "execution_count": null,
   "id": "8fdc5fc8-35e0-446c-9c20-4192df7e421e",
   "metadata": {},
   "outputs": [],
   "source": [
    "solver = wordle_solver('siren', 'BBGYB', words)"
   ]
  },
  {
   "cell_type": "code",
   "execution_count": null,
   "id": "3579173a-6ab8-43fe-a2c9-b79956c7d980",
   "metadata": {},
   "outputs": [],
   "source": [
    "solver[0]"
   ]
  },
  {
   "cell_type": "code",
   "execution_count": null,
   "id": "73b1c291-2630-44de-9c3d-b054094b5f25",
   "metadata": {},
   "outputs": [],
   "source": [
    "solver[1]"
   ]
  },
  {
   "cell_type": "code",
   "execution_count": null,
   "id": "acb03012-bbdf-4ed3-94d8-3daec09a2e22",
   "metadata": {},
   "outputs": [],
   "source": []
  }
 ],
 "metadata": {
  "kernelspec": {
   "display_name": "Python 3 (ipykernel)",
   "language": "python",
   "name": "python3"
  },
  "language_info": {
   "codemirror_mode": {
    "name": "ipython",
    "version": 3
   },
   "file_extension": ".py",
   "mimetype": "text/x-python",
   "name": "python",
   "nbconvert_exporter": "python",
   "pygments_lexer": "ipython3",
   "version": "3.9.9"
  }
 },
 "nbformat": 4,
 "nbformat_minor": 5
}
